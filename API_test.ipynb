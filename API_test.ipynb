{
 "cells": [
  {
   "cell_type": "code",
   "execution_count": 1,
   "metadata": {},
   "outputs": [],
   "source": [
    "import sqlalchemy\n",
    "from fastapi import FastAPI"
   ]
  },
  {
   "cell_type": "code",
   "execution_count": 2,
   "metadata": {},
   "outputs": [],
   "source": [
    "import pandas as pd"
   ]
  },
  {
   "cell_type": "code",
   "execution_count": 4,
   "metadata": {},
   "outputs": [],
   "source": [
    "dbengine=sqlalchemy.create_engine('sqlite:///C:\\\\sqlite\\\\margera_assignment.db')"
   ]
  },
  {
   "cell_type": "code",
   "execution_count": null,
   "metadata": {},
   "outputs": [],
   "source": [
    "app = FastAPI()\n",
    "\n",
    "@app.get(\"/task_1\")\n",
    "def task1():\n",
    "    query=pd.read_sql_query(\"SELECT Country,temp,day_name,max(validdate) FROM forecast GROUP BY Country,day_name ORDER BY Country,day\",con=dbengine)\n",
    "\n",
    "    return query\n",
    "\n",
    "\n",
    "@app.get(\"/task_2\")\n",
    "def task2():\n",
    "    query=pd.read_sql_query(\"\"\"SELECT Country,day_name,ROUND(AVG(temp),1) as average_temp from\n",
    "(SELECT Country,temp,day_name,validdate,row_number() OVER(PARTITION BY Country,day_name ORDER by validdate ) as row FROM forecast ORDER BY row DESC Limit 63  )\n",
    "GROUP BY Country,day_name ORDER BY Country,day_name\"\"\",con=dbengine)\n",
    "\n",
    "\n",
    "    return query\n",
    "\n",
    "@app.get(\"/task_3\")\n",
    "def task3(n):\n",
    "    query=pd.read_sql_query(\"\"\"SELECT Country,MAX(temp) as temp,'max' as kpi_used FROM forecast \n",
    "GROUP BY Country\n",
    "ORDER BY temp DESC\n",
    "LIMIT %s\"\"\" %n ,con=dbengine)\n",
    "    query2=pd.read_sql_query(\"\"\"SELECT Country,MIN(temp) as temp,'min' as kpi_used FROM forecast \n",
    "GROUP BY Country\n",
    "ORDER BY temp ASC\n",
    "LIMIT %s\"\"\" %n ,con=dbengine)\n",
    "    query=query.append(query2, ignore_index=True)\n",
    "\n",
    "    query3=query.append(pd.read_sql_query(\"\"\"SELECT Country, MAX(temp) as temp,kpi_used from\n",
    "(SELECT Country,ROUND(AVG(temp),1) as temp,'max_avg' as kpi_used FROM forecast \n",
    "GROUP BY Country,day_name\n",
    "ORDER BY temp DESC)\n",
    "GROUP BY Country\n",
    "ORDER BY temp DESC\n",
    "#LIMIT %s\"\"\" %n ,con=dbengine))\n",
    "    query=query.append(query3,igore_index=True)\n",
    "    query4=query.append(pd.read_sql_query(\"\"\"SELECT Country, MIN(temp) as temp,kpi_used from\n",
    "(SELECT Country,ROUND(AVG(temp),1) as temp,'min_avg' as kpi_used FROM forecast \n",
    "GROUP BY Country,day_name\n",
    "ORDER BY temp DESC)\n",
    "GROUP BY Country\n",
    "ORDER BY temp DESC\n",
    "#LIMIT %s\"\"\" %n ,con=dbengine))\n",
    "    query=query.append(query4,igore_index=True)\n",
    "    \n",
    "\n",
    "\n",
    "    return query"
   ]
  }
 ],
 "metadata": {
  "kernelspec": {
   "display_name": "Python 3",
   "language": "python",
   "name": "python3"
  },
  "language_info": {
   "codemirror_mode": {
    "name": "ipython",
    "version": 3
   },
   "file_extension": ".py",
   "mimetype": "text/x-python",
   "name": "python",
   "nbconvert_exporter": "python",
   "pygments_lexer": "ipython3",
   "version": "3.7.7"
  }
 },
 "nbformat": 4,
 "nbformat_minor": 4
}
